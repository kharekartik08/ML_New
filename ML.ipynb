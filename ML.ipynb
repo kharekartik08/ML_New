{
 "cells": [
  {
   "cell_type": "code",
   "execution_count": 1,
   "metadata": {},
   "outputs": [],
   "source": [
    "import pandas as pd \n",
    "import matplotlib.pyplot as plt\n",
    "import tensorflow as tf"
   ]
  },
  {
   "cell_type": "code",
   "execution_count": 2,
   "metadata": {},
   "outputs": [],
   "source": [
    "import numpy as np"
   ]
  },
  {
   "cell_type": "markdown",
   "metadata": {},
   "source": [
    "### Making data and saving to .npz file"
   ]
  },
  {
   "cell_type": "code",
   "execution_count": 8,
   "metadata": {},
   "outputs": [],
   "source": [
    "#inputs \n",
    "n=1000\n",
    "#generating inputs to the function \n",
    "x= np.random.uniform(low=-10, high=10, size=(n,1))\n",
    "y= np.random.uniform(low=-10, high=10, size=(n,1))\n",
    "#stacking the inputs \n",
    "inputs=np.column_stack((x,y))\n",
    "noise=np.random.uniform(low=-1, high=1, size=(n,1))\n",
    "#function\n",
    "\n",
    "func=2*x+3*y+5+noise\n",
    "#saving the file into NPZ\n",
    "np.savez(\"TF_Intro\", inputs=inputs, target=func)"
   ]
  },
  {
   "cell_type": "markdown",
   "metadata": {},
   "source": [
    "### Loading data"
   ]
  },
  {
   "cell_type": "code",
   "execution_count": 9,
   "metadata": {},
   "outputs": [],
   "source": [
    "training_data=np.load(\"TF_Intro.npz\")"
   ]
  },
  {
   "cell_type": "markdown",
   "metadata": {},
   "source": [
    "### Model without kernel and bias initializer"
   ]
  },
  {
   "cell_type": "code",
   "execution_count": 10,
   "metadata": {},
   "outputs": [
    {
     "name": "stdout",
     "output_type": "stream",
     "text": [
      "Train on 1000 samples\n",
      "Epoch 1/100\n",
      "1000/1000 - 0s - loss: 34.8056\n",
      "Epoch 2/100\n",
      "1000/1000 - 0s - loss: 4.2705\n",
      "Epoch 3/100\n",
      "1000/1000 - 0s - loss: 1.4565\n",
      "Epoch 4/100\n",
      "1000/1000 - 0s - loss: 0.6649\n",
      "Epoch 5/100\n",
      "1000/1000 - 0s - loss: 0.4297\n",
      "Epoch 6/100\n",
      "1000/1000 - 0s - loss: 0.3803\n",
      "Epoch 7/100\n",
      "1000/1000 - 0s - loss: 0.3727\n",
      "Epoch 8/100\n",
      "1000/1000 - 0s - loss: 0.3520\n",
      "Epoch 9/100\n",
      "1000/1000 - 0s - loss: 0.3610\n",
      "Epoch 10/100\n",
      "1000/1000 - 0s - loss: 0.3587\n",
      "Epoch 11/100\n",
      "1000/1000 - 0s - loss: 0.3525\n",
      "Epoch 12/100\n",
      "1000/1000 - 0s - loss: 0.3588\n",
      "Epoch 13/100\n",
      "1000/1000 - 0s - loss: 0.3528\n",
      "Epoch 14/100\n",
      "1000/1000 - 0s - loss: 0.3544\n",
      "Epoch 15/100\n",
      "1000/1000 - 0s - loss: 0.3553\n",
      "Epoch 16/100\n",
      "1000/1000 - 0s - loss: 0.3560\n",
      "Epoch 17/100\n",
      "1000/1000 - 0s - loss: 0.3531\n",
      "Epoch 18/100\n",
      "1000/1000 - 0s - loss: 0.3507\n",
      "Epoch 19/100\n",
      "1000/1000 - 0s - loss: 0.3590\n",
      "Epoch 20/100\n",
      "1000/1000 - 0s - loss: 0.3563\n",
      "Epoch 21/100\n",
      "1000/1000 - 0s - loss: 0.3549\n",
      "Epoch 22/100\n",
      "1000/1000 - 0s - loss: 0.3546\n",
      "Epoch 23/100\n",
      "1000/1000 - 0s - loss: 0.3507\n",
      "Epoch 24/100\n",
      "1000/1000 - 0s - loss: 0.3615\n",
      "Epoch 25/100\n",
      "1000/1000 - 0s - loss: 0.3625\n",
      "Epoch 26/100\n",
      "1000/1000 - 0s - loss: 0.3657\n",
      "Epoch 27/100\n",
      "1000/1000 - 0s - loss: 0.3509\n",
      "Epoch 28/100\n",
      "1000/1000 - 0s - loss: 0.3546\n",
      "Epoch 29/100\n",
      "1000/1000 - 0s - loss: 0.3585\n",
      "Epoch 30/100\n",
      "1000/1000 - 0s - loss: 0.3497\n",
      "Epoch 31/100\n",
      "1000/1000 - 0s - loss: 0.3547\n",
      "Epoch 32/100\n",
      "1000/1000 - 0s - loss: 0.3557\n",
      "Epoch 33/100\n",
      "1000/1000 - 0s - loss: 0.3567\n",
      "Epoch 34/100\n",
      "1000/1000 - 0s - loss: 0.3503\n",
      "Epoch 35/100\n",
      "1000/1000 - 0s - loss: 0.3530\n",
      "Epoch 36/100\n",
      "1000/1000 - 0s - loss: 0.3625\n",
      "Epoch 37/100\n",
      "1000/1000 - 0s - loss: 0.3539\n",
      "Epoch 38/100\n",
      "1000/1000 - 0s - loss: 0.3582\n",
      "Epoch 39/100\n",
      "1000/1000 - 0s - loss: 0.3546\n",
      "Epoch 40/100\n",
      "1000/1000 - 0s - loss: 0.3552\n",
      "Epoch 41/100\n",
      "1000/1000 - 0s - loss: 0.3559\n",
      "Epoch 42/100\n",
      "1000/1000 - 0s - loss: 0.3589\n",
      "Epoch 43/100\n",
      "1000/1000 - 0s - loss: 0.3546\n",
      "Epoch 44/100\n",
      "1000/1000 - 0s - loss: 0.3622\n",
      "Epoch 45/100\n",
      "1000/1000 - 0s - loss: 0.3591\n",
      "Epoch 46/100\n",
      "1000/1000 - 0s - loss: 0.3535\n",
      "Epoch 47/100\n",
      "1000/1000 - 0s - loss: 0.3538\n",
      "Epoch 48/100\n",
      "1000/1000 - 0s - loss: 0.3539\n",
      "Epoch 49/100\n",
      "1000/1000 - 0s - loss: 0.3469\n",
      "Epoch 50/100\n",
      "1000/1000 - 0s - loss: 0.3562\n",
      "Epoch 51/100\n",
      "1000/1000 - 0s - loss: 0.3528\n",
      "Epoch 52/100\n",
      "1000/1000 - 0s - loss: 0.3516\n",
      "Epoch 53/100\n",
      "1000/1000 - 0s - loss: 0.3571\n",
      "Epoch 54/100\n",
      "1000/1000 - 0s - loss: 0.3536\n",
      "Epoch 55/100\n",
      "1000/1000 - 0s - loss: 0.3510\n",
      "Epoch 56/100\n",
      "1000/1000 - 0s - loss: 0.3594\n",
      "Epoch 57/100\n",
      "1000/1000 - 0s - loss: 0.3544\n",
      "Epoch 58/100\n",
      "1000/1000 - 0s - loss: 0.3542\n",
      "Epoch 59/100\n",
      "1000/1000 - 0s - loss: 0.3524\n",
      "Epoch 60/100\n",
      "1000/1000 - 0s - loss: 0.3584\n",
      "Epoch 61/100\n",
      "1000/1000 - 0s - loss: 0.3558\n",
      "Epoch 62/100\n",
      "1000/1000 - 0s - loss: 0.3572\n",
      "Epoch 63/100\n",
      "1000/1000 - 0s - loss: 0.3565\n",
      "Epoch 64/100\n",
      "1000/1000 - 0s - loss: 0.3531\n",
      "Epoch 65/100\n",
      "1000/1000 - 0s - loss: 0.3560\n",
      "Epoch 66/100\n",
      "1000/1000 - 0s - loss: 0.3572\n",
      "Epoch 67/100\n",
      "1000/1000 - 0s - loss: 0.3546\n",
      "Epoch 68/100\n",
      "1000/1000 - 0s - loss: 0.3578\n",
      "Epoch 69/100\n",
      "1000/1000 - 0s - loss: 0.3552\n",
      "Epoch 70/100\n",
      "1000/1000 - 0s - loss: 0.3505\n",
      "Epoch 71/100\n",
      "1000/1000 - 0s - loss: 0.3508\n",
      "Epoch 72/100\n",
      "1000/1000 - 0s - loss: 0.3524\n",
      "Epoch 73/100\n",
      "1000/1000 - 0s - loss: 0.3610\n",
      "Epoch 74/100\n",
      "1000/1000 - 0s - loss: 0.3529\n",
      "Epoch 75/100\n",
      "1000/1000 - 0s - loss: 0.3560\n",
      "Epoch 76/100\n",
      "1000/1000 - 0s - loss: 0.3647\n",
      "Epoch 77/100\n",
      "1000/1000 - 0s - loss: 0.3583\n",
      "Epoch 78/100\n",
      "1000/1000 - 0s - loss: 0.3514\n",
      "Epoch 79/100\n",
      "1000/1000 - 0s - loss: 0.3585\n",
      "Epoch 80/100\n",
      "1000/1000 - 0s - loss: 0.3644\n",
      "Epoch 81/100\n",
      "1000/1000 - 0s - loss: 0.3572\n",
      "Epoch 82/100\n",
      "1000/1000 - 0s - loss: 0.3529\n",
      "Epoch 83/100\n",
      "1000/1000 - 0s - loss: 0.3563\n",
      "Epoch 84/100\n",
      "1000/1000 - 0s - loss: 0.3545\n",
      "Epoch 85/100\n",
      "1000/1000 - 0s - loss: 0.3574\n",
      "Epoch 86/100\n",
      "1000/1000 - 0s - loss: 0.3542\n",
      "Epoch 87/100\n",
      "1000/1000 - 0s - loss: 0.3557\n",
      "Epoch 88/100\n",
      "1000/1000 - 0s - loss: 0.3540\n",
      "Epoch 89/100\n",
      "1000/1000 - 0s - loss: 0.3528\n",
      "Epoch 90/100\n",
      "1000/1000 - 0s - loss: 0.3504\n",
      "Epoch 91/100\n",
      "1000/1000 - 0s - loss: 0.3526\n",
      "Epoch 92/100\n",
      "1000/1000 - 0s - loss: 0.3663\n",
      "Epoch 93/100\n",
      "1000/1000 - 0s - loss: 0.3480\n",
      "Epoch 94/100\n",
      "1000/1000 - 0s - loss: 0.3520\n",
      "Epoch 95/100\n",
      "1000/1000 - 0s - loss: 0.3506\n",
      "Epoch 96/100\n",
      "1000/1000 - 0s - loss: 0.3625\n",
      "Epoch 97/100\n",
      "1000/1000 - 0s - loss: 0.3603\n",
      "Epoch 98/100\n",
      "1000/1000 - 0s - loss: 0.3573\n",
      "Epoch 99/100\n",
      "1000/1000 - 0s - loss: 0.3540\n",
      "Epoch 100/100\n",
      "1000/1000 - 0s - loss: 0.3560\n"
     ]
    },
    {
     "data": {
      "text/plain": [
       "<tensorflow.python.keras.callbacks.History at 0x22275c9cb08>"
      ]
     },
     "execution_count": 10,
     "metadata": {},
     "output_type": "execute_result"
    }
   ],
   "source": [
    "input_size=2\n",
    "output_size=1\n",
    "\n",
    "model=tf.keras.Sequential([tf.keras.layers.Dense(output_size)])\n",
    "\n",
    "model.compile(optimizer='sgd', loss='mean_squared_error')\n",
    "model.fit(training_data['inputs'], training_data['target'], epochs=100, verbose=2)"
   ]
  },
  {
   "cell_type": "code",
   "execution_count": 12,
   "metadata": {},
   "outputs": [
    {
     "data": {
      "text/plain": [
       "[array([[1.9680582],\n",
       "        [2.9414961]], dtype=float32),\n",
       " array([4.9902883], dtype=float32)]"
      ]
     },
     "execution_count": 12,
     "metadata": {},
     "output_type": "execute_result"
    }
   ],
   "source": [
    "#getting the weights and bias \n",
    "model.layers[0].get_weights()"
   ]
  },
  {
   "cell_type": "code",
   "execution_count": 15,
   "metadata": {},
   "outputs": [
    {
     "data": {
      "text/plain": [
       "array([[1.9680582],\n",
       "       [2.9414961]], dtype=float32)"
      ]
     },
     "execution_count": 15,
     "metadata": {},
     "output_type": "execute_result"
    }
   ],
   "source": [
    "#getting only weights\n",
    "w=model.layers[0].get_weights()[0]\n",
    "w"
   ]
  },
  {
   "cell_type": "code",
   "execution_count": 17,
   "metadata": {},
   "outputs": [
    {
     "data": {
      "text/plain": [
       "array([4.9902883], dtype=float32)"
      ]
     },
     "execution_count": 17,
     "metadata": {},
     "output_type": "execute_result"
    }
   ],
   "source": [
    "#getting only bias\n",
    "b=model.layers[0].get_weights()[1]\n",
    "b"
   ]
  },
  {
   "cell_type": "code",
   "execution_count": 30,
   "metadata": {},
   "outputs": [],
   "source": [
    "#predicting on the trained model\n",
    "predict=np.round(model.predict_on_batch(training_data['inputs']),1)"
   ]
  },
  {
   "cell_type": "code",
   "execution_count": 32,
   "metadata": {},
   "outputs": [],
   "source": [
    "#testing on the targets\n",
    "tar=training_data['target'].round(1)"
   ]
  },
  {
   "cell_type": "code",
   "execution_count": 33,
   "metadata": {},
   "outputs": [
    {
     "data": {
      "image/png": "[encoded data removed]",
      "text/plain": [
       "<Figure size 432x288 with 1 Axes>"
      ]
     },
     "metadata": {
      "needs_background": "light"
     },
     "output_type": "display_data"
    }
   ],
   "source": [
    "plt.plot(predict, tar)\n",
    "plt.xlabel(\"Predicted value\")\n",
    "plt.ylabel(\"Target Value\")\n",
    "plt.show()"
   ]
  },
  {
   "cell_type": "markdown",
   "metadata": {},
   "source": [
    "### Model with Kernel and Bias Initializer on same data set"
   ]
  },
  {
   "cell_type": "code",
   "execution_count": 36,
   "metadata": {},
   "outputs": [
    {
     "name": "stdout",
     "output_type": "stream",
     "text": [
      "Train on 1000 samples\n",
      "Epoch 1/100\n",
      "1000/1000 - 1s - loss: 30.8583\n",
      "Epoch 2/100\n",
      "1000/1000 - 0s - loss: 1.1690\n",
      "Epoch 3/100\n",
      "1000/1000 - 0s - loss: 0.5347\n",
      "Epoch 4/100\n",
      "1000/1000 - 0s - loss: 0.4064\n",
      "Epoch 5/100\n",
      "1000/1000 - 0s - loss: 0.4017\n",
      "Epoch 6/100\n",
      "1000/1000 - 0s - loss: 0.3872\n",
      "Epoch 7/100\n",
      "1000/1000 - 0s - loss: 0.4194\n",
      "Epoch 8/100\n",
      "1000/1000 - 0s - loss: 0.4184\n",
      "Epoch 9/100\n",
      "1000/1000 - 0s - loss: 0.4243\n",
      "Epoch 10/100\n",
      "1000/1000 - 0s - loss: 0.4069\n",
      "Epoch 11/100\n",
      "1000/1000 - 0s - loss: 0.4690\n",
      "Epoch 12/100\n",
      "1000/1000 - 0s - loss: 0.4078\n",
      "Epoch 13/100\n",
      "1000/1000 - 0s - loss: 0.3687\n",
      "Epoch 14/100\n",
      "1000/1000 - 0s - loss: 0.3895\n",
      "Epoch 15/100\n",
      "1000/1000 - 0s - loss: 0.4187\n",
      "Epoch 16/100\n",
      "1000/1000 - 0s - loss: 0.4085\n",
      "Epoch 17/100\n",
      "1000/1000 - 0s - loss: 0.4177\n",
      "Epoch 18/100\n",
      "1000/1000 - 0s - loss: 0.3777\n",
      "Epoch 19/100\n",
      "1000/1000 - 0s - loss: 0.4014\n",
      "Epoch 20/100\n",
      "1000/1000 - 0s - loss: 0.4008\n",
      "Epoch 21/100\n",
      "1000/1000 - 0s - loss: 0.4070\n",
      "Epoch 22/100\n",
      "1000/1000 - 0s - loss: 0.4078\n",
      "Epoch 23/100\n",
      "1000/1000 - 0s - loss: 0.3847\n",
      "Epoch 24/100\n",
      "1000/1000 - 0s - loss: 0.3782\n",
      "Epoch 25/100\n",
      "1000/1000 - 0s - loss: 0.4522\n",
      "Epoch 26/100\n",
      "1000/1000 - 0s - loss: 0.3983\n",
      "Epoch 27/100\n",
      "1000/1000 - 0s - loss: 0.4146\n",
      "Epoch 28/100\n",
      "1000/1000 - 0s - loss: 0.3921\n",
      "Epoch 29/100\n",
      "1000/1000 - 0s - loss: 0.3882\n",
      "Epoch 30/100\n",
      "1000/1000 - 0s - loss: 0.4155\n",
      "Epoch 31/100\n",
      "1000/1000 - 0s - loss: 0.3936\n",
      "Epoch 32/100\n",
      "1000/1000 - 0s - loss: 0.4278\n",
      "Epoch 33/100\n",
      "1000/1000 - 0s - loss: 0.3960\n",
      "Epoch 34/100\n",
      "1000/1000 - 0s - loss: 0.4118\n",
      "Epoch 35/100\n",
      "1000/1000 - 0s - loss: 0.3918\n",
      "Epoch 36/100\n",
      "1000/1000 - 0s - loss: 0.4136\n",
      "Epoch 37/100\n",
      "1000/1000 - 0s - loss: 0.3685\n",
      "Epoch 38/100\n",
      "1000/1000 - 0s - loss: 0.4458\n",
      "Epoch 39/100\n",
      "1000/1000 - 0s - loss: 0.4211\n",
      "Epoch 40/100\n",
      "1000/1000 - 0s - loss: 0.3808\n",
      "Epoch 41/100\n",
      "1000/1000 - 0s - loss: 0.4078\n",
      "Epoch 42/100\n",
      "1000/1000 - 0s - loss: 0.4069\n",
      "Epoch 43/100\n",
      "1000/1000 - 0s - loss: 0.3873\n",
      "Epoch 44/100\n",
      "1000/1000 - 0s - loss: 0.4374\n",
      "Epoch 45/100\n",
      "1000/1000 - 0s - loss: 0.3743\n",
      "Epoch 46/100\n",
      "1000/1000 - 0s - loss: 0.4119\n",
      "Epoch 47/100\n",
      "1000/1000 - 0s - loss: 0.4010\n",
      "Epoch 48/100\n",
      "1000/1000 - 0s - loss: 0.3915\n",
      "Epoch 49/100\n",
      "1000/1000 - 0s - loss: 0.4103\n",
      "Epoch 50/100\n",
      "1000/1000 - 0s - loss: 0.4688\n",
      "Epoch 51/100\n",
      "1000/1000 - 0s - loss: 0.3769\n",
      "Epoch 52/100\n",
      "1000/1000 - 0s - loss: 0.4375\n",
      "Epoch 53/100\n",
      "1000/1000 - 0s - loss: 0.3855\n",
      "Epoch 54/100\n",
      "1000/1000 - 0s - loss: 0.3912\n",
      "Epoch 55/100\n",
      "1000/1000 - 0s - loss: 0.4333\n",
      "Epoch 56/100\n",
      "1000/1000 - 0s - loss: 0.3703\n",
      "Epoch 57/100\n",
      "1000/1000 - 0s - loss: 0.4023\n",
      "Epoch 58/100\n",
      "1000/1000 - 0s - loss: 0.3796\n",
      "Epoch 59/100\n",
      "1000/1000 - 0s - loss: 0.3897\n",
      "Epoch 60/100\n",
      "1000/1000 - 0s - loss: 0.4356\n",
      "Epoch 61/100\n",
      "1000/1000 - 0s - loss: 0.3708\n",
      "Epoch 62/100\n",
      "1000/1000 - 0s - loss: 0.4291\n",
      "Epoch 63/100\n",
      "1000/1000 - 0s - loss: 0.4025\n",
      "Epoch 64/100\n",
      "1000/1000 - 0s - loss: 0.4018\n",
      "Epoch 65/100\n",
      "1000/1000 - 0s - loss: 0.3957\n",
      "Epoch 66/100\n",
      "1000/1000 - 0s - loss: 0.3684\n",
      "Epoch 67/100\n",
      "1000/1000 - 0s - loss: 0.3606\n",
      "Epoch 68/100\n",
      "1000/1000 - 0s - loss: 0.3959\n",
      "Epoch 69/100\n",
      "1000/1000 - 0s - loss: 0.3878\n",
      "Epoch 70/100\n",
      "1000/1000 - 0s - loss: 0.4061\n",
      "Epoch 71/100\n",
      "1000/1000 - 0s - loss: 0.3945\n",
      "Epoch 72/100\n",
      "1000/1000 - 0s - loss: 0.4110\n",
      "Epoch 73/100\n",
      "1000/1000 - 0s - loss: 0.4203\n",
      "Epoch 74/100\n",
      "1000/1000 - 0s - loss: 0.3764\n",
      "Epoch 75/100\n",
      "1000/1000 - 0s - loss: 0.3977\n",
      "Epoch 76/100\n",
      "1000/1000 - 0s - loss: 0.4418\n",
      "Epoch 77/100\n",
      "1000/1000 - 0s - loss: 0.4172\n",
      "Epoch 78/100\n",
      "1000/1000 - 0s - loss: 0.3728\n",
      "Epoch 79/100\n",
      "1000/1000 - 0s - loss: 0.4175\n",
      "Epoch 80/100\n",
      "1000/1000 - 0s - loss: 0.3982\n",
      "Epoch 81/100\n",
      "1000/1000 - 0s - loss: 0.3845\n",
      "Epoch 82/100\n",
      "1000/1000 - 0s - loss: 0.3895\n",
      "Epoch 83/100\n",
      "1000/1000 - 0s - loss: 0.4163\n",
      "Epoch 84/100\n",
      "1000/1000 - 0s - loss: 0.4025\n",
      "Epoch 85/100\n",
      "1000/1000 - 0s - loss: 0.4126\n",
      "Epoch 86/100\n",
      "1000/1000 - 0s - loss: 0.3850\n",
      "Epoch 87/100\n",
      "1000/1000 - 0s - loss: 0.3991\n",
      "Epoch 88/100\n",
      "1000/1000 - 0s - loss: 0.3994\n",
      "Epoch 89/100\n",
      "1000/1000 - 0s - loss: 0.3946\n",
      "Epoch 90/100\n",
      "1000/1000 - 0s - loss: 0.4044\n",
      "Epoch 91/100\n",
      "1000/1000 - 0s - loss: 0.3844\n",
      "Epoch 92/100\n",
      "1000/1000 - 0s - loss: 0.4085\n",
      "Epoch 93/100\n",
      "1000/1000 - 0s - loss: 0.3834\n",
      "Epoch 94/100\n",
      "1000/1000 - 0s - loss: 0.3936\n",
      "Epoch 95/100\n",
      "1000/1000 - 0s - loss: 0.4004\n",
      "Epoch 96/100\n",
      "1000/1000 - 0s - loss: 0.3885\n",
      "Epoch 97/100\n",
      "1000/1000 - 0s - loss: 0.4443\n",
      "Epoch 98/100\n",
      "1000/1000 - 0s - loss: 0.3846\n",
      "Epoch 99/100\n",
      "1000/1000 - 0s - loss: 0.3971\n",
      "Epoch 100/100\n",
      "1000/1000 - 0s - loss: 0.3829\n"
     ]
    },
    {
     "data": {
      "text/plain": [
       "<tensorflow.python.keras.callbacks.History at 0x2227793bc88>"
      ]
     },
     "execution_count": 36,
     "metadata": {},
     "output_type": "execute_result"
    }
   ],
   "source": [
    "input_size=2\n",
    "output_size=1\n",
    "\n",
    "model2=tf.keras.Sequential([tf.keras.layers.Dense(output_size,\n",
    "                                                 kernel_initializer=tf.random_uniform_initializer(minval=-0.1, maxval=0.1),\n",
    "                                                 bias_initializer=tf.random_uniform_initializer(minval=-0.1, maxval=0.1)\n",
    "                                                 )\n",
    "                           ])\n",
    "cus_opt=tf.keras.optimizers.SGD(learning_rate=0.02)\n",
    "\n",
    "model2.compile(optimizer=cus_opt, loss='mean_squared_error')\n",
    "model2.fit(training_data['inputs'], training_data['target'], epochs=100, verbose=2)"
   ]
  },
  {
   "cell_type": "code",
   "execution_count": 40,
   "metadata": {},
   "outputs": [
    {
     "data": {
      "text/plain": [
       "[array([[1.9831275],\n",
       "        [3.0040262]], dtype=float32),\n",
       " array([4.988267], dtype=float32)]"
      ]
     },
     "execution_count": 40,
     "metadata": {},
     "output_type": "execute_result"
    }
   ],
   "source": [
    "model2.layers[0].get_weights()"
   ]
  },
  {
   "cell_type": "code",
   "execution_count": 41,
   "metadata": {},
   "outputs": [
    {
     "data": {
      "text/plain": [
       "array([[1.9831275],\n",
       "       [3.0040262]], dtype=float32)"
      ]
     },
     "execution_count": 41,
     "metadata": {},
     "output_type": "execute_result"
    }
   ],
   "source": [
    "#getting only weights of model 2\n",
    "w1=model2.layers[0].get_weights()[0]\n",
    "w1"
   ]
  },
  {
   "cell_type": "code",
   "execution_count": 42,
   "metadata": {},
   "outputs": [
    {
     "data": {
      "text/plain": [
       "array([4.988267], dtype=float32)"
      ]
     },
     "execution_count": 42,
     "metadata": {},
     "output_type": "execute_result"
    }
   ],
   "source": [
    "b1=model2.layers[0].get_weights()[1]\n",
    "b1"
   ]
  },
  {
   "cell_type": "code",
   "execution_count": 46,
   "metadata": {},
   "outputs": [],
   "source": [
    "predict2=np.round(model2.predict_on_batch(training_data['inputs']),1)\n",
    "tar2=training_data['target'].round(1)"
   ]
  },
  {
   "cell_type": "code",
   "execution_count": 47,
   "metadata": {},
   "outputs": [
    {
     "data": {
      "image/png": "[encoded data removed]",
      "text/plain": [
       "<Figure size 432x288 with 1 Axes>"
      ]
     },
     "metadata": {
      "needs_background": "light"
     },
     "output_type": "display_data"
    }
   ],
   "source": [
    "plt.plot(predict2,tar2)\n",
    "plt.xlabel(\"Predicted Value\")\n",
    "plt.ylabel(\"Target Value\")\n",
    "plt.show()"
   ]
  },
  {
   "cell_type": "code",
   "execution_count": null,
   "metadata": {},
   "outputs": [],
   "source": []
  },
  {
   "cell_type": "code",
   "execution_count": null,
   "metadata": {},
   "outputs": [],
   "source": []
  }
 ],
 "metadata": {
  "kernelspec": {
   "display_name": "Python 3",
   "language": "python",
   "name": "python3"
  },
  "language_info": {
   "codemirror_mode": {
    "name": "ipython",
    "version": 3
   },
   "file_extension": ".py",
   "mimetype": "text/x-python",
   "name": "python",
   "nbconvert_exporter": "python",
   "pygments_lexer": "ipython3",
   "version": "3.7.7"
  }
 },
 "nbformat": 4,
 "nbformat_minor": 4
}
